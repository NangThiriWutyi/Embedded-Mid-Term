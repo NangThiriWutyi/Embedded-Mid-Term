{
  "nbformat": 4,
  "nbformat_minor": 0,
  "metadata": {
    "colab": {
      "provenance": []
    },
    "kernelspec": {
      "name": "python3",
      "display_name": "Python 3"
    },
    "language_info": {
      "name": "python"
    }
  },
  "cells": [
    {
      "cell_type": "code",
      "execution_count": 21,
      "metadata": {
        "colab": {
          "base_uri": "https://localhost:8080/"
        },
        "id": "SyhtcOcNoOR3",
        "outputId": "ab7b5e04-4473-415e-c84a-e84f0cc9efbd"
      },
      "outputs": [
        {
          "output_type": "stream",
          "name": "stdout",
          "text": [
            "64\n"
          ]
        }
      ],
      "source": [
        "def Ton(now): #Ton is a function that takes an argument now\n",
        "    then = 42 # then is set to 42\n",
        "\n",
        "    def no(know): # func no takes an argument now\n",
        "        no = then  # no = 7, now = lambda oh: oh(4)\n",
        "        return know * now(know)\n",
        "\n",
        "    return no\n",
        "\n",
        "then, no = 7, 4\n",
        "now = lambda oh: oh * no\n",
        "ok = Ton(now)(no) # ok= now*now(4) -> 4*16 = 64\n",
        "print(ok)"
      ]
    },
    {
      "cell_type": "code",
      "source": [
        "woo = 6\n",
        "\n",
        "def much(woo):\n",
        "    if much == woo:\n",
        "        such = lambda woo: 5  # if true, returns 5\n",
        "\n",
        "        def woo():\n",
        "            return such # return 5\n",
        "\n",
        "        return woo # 5\n",
        "\n",
        "    such = lambda woo: 4 # if false, return 4\n",
        "    return woo()\n",
        "\n",
        "woo = much(much(much))(woo)  #  much(much(much(4))) -> much(much(such))= much(much(5)) -> much(5) ->\n",
        "print(woo)\n"
      ],
      "metadata": {
        "colab": {
          "base_uri": "https://localhost:8080/"
        },
        "id": "9xsXL9S2sSAB",
        "outputId": "50a554aa-6e4d-471d-9611-12c126a237e7"
      },
      "execution_count": 25,
      "outputs": [
        {
          "output_type": "stream",
          "name": "stdout",
          "text": [
            "5\n"
          ]
        }
      ]
    },
    {
      "cell_type": "code",
      "source": [
        "\n",
        "def horn(hood):\n",
        "    horn = hood\n",
        "    def hood(horn):\n",
        "        return horn\n",
        "    return horn(hood)\n",
        "\n",
        "hood = lambda horn: horn(2) # lambda horn: horn(2) -> hood=2\n",
        "result = horn(hood) #horn(2) -> 2\n",
        "print(result) #2\n"
      ],
      "metadata": {
        "colab": {
          "base_uri": "https://localhost:8080/"
        },
        "id": "0HicMAkxshPf",
        "outputId": "78d5d2db-805a-49fe-93d4-133a99c5d8ed"
      },
      "execution_count": 46,
      "outputs": [
        {
          "output_type": "stream",
          "name": "stdout",
          "text": [
            "2\n"
          ]
        }
      ]
    },
    {
      "cell_type": "code",
      "source": [
        "pear = \"ni\"\n",
        "\n",
        "def apple(banana):\n",
        "    def plum(peach):\n",
        "        pear = lambda pear: peach(pear) #lambda ni:peach(\"ni\")\n",
        "        return pear #return ni\n",
        "    return plum(banana)(\"ck\")\n",
        "\n",
        "result = apple(lambda peach: pear + peach) # lambda pear -> ni, lambda peach:\"ni\"+\"ck\"\n",
        "print(result) #The result should be \"nick\"\n"
      ],
      "metadata": {
        "colab": {
          "base_uri": "https://localhost:8080/"
        },
        "id": "utTZlsLsswoS",
        "outputId": "46981687-03bb-4954-b806-71e3481c2608"
      },
      "execution_count": 8,
      "outputs": [
        {
          "output_type": "stream",
          "name": "stdout",
          "text": [
            "nick\n"
          ]
        }
      ]
    },
    {
      "cell_type": "code",
      "source": [
        "x = \"x\"\n",
        "g = x\n",
        "\n",
        "def x(x): # x-> \"x\"\n",
        "    g = \"h\"\n",
        "    if x == g:    # false because x ->x and g is \"h\"\n",
        "        return x + \"i\"\n",
        "    x = lambda x: x(g)  # x=(g) is x(h)\n",
        "    return lambda g: x(g) #return h\n",
        "\n",
        "x = x(x)(x) # x = x(x(h)) -> x(g) , in this case g is \"h\" , return x + \"i\"\n",
        "print(x) # the result will be hi\n"
      ],
      "metadata": {
        "colab": {
          "base_uri": "https://localhost:8080/"
        },
        "id": "Sc7IKkrWs-go",
        "outputId": "a4750b68-6435-4d83-9417-87d5a9c4f16a"
      },
      "execution_count": 42,
      "outputs": [
        {
          "output_type": "stream",
          "name": "stdout",
          "text": [
            "hi\n"
          ]
        }
      ]
    },
    {
      "cell_type": "code",
      "source": [
        "def nrst_two(x):\n",
        "    if x <= 0:\n",
        "        return \"Please provide a positive number.\"\n",
        "\n",
        "    power = 0\n",
        "    while 2 ** power <= x:\n",
        "        power += 1\n",
        "\n",
        "    # Determine the nearest power of two\n",
        "    lower_power = 2 ** (power - 1)\n",
        "    upper_power = 2 ** power\n",
        "\n",
        "    # Check which power is closer to x\n",
        "    if abs(x - lower_power) < abs(x - upper_power):\n",
        "        return lower_power\n",
        "    else:\n",
        "        return upper_power\n",
        "print(f\"The nearest power of two to {x} is {result}\")\n",
        "\n",
        "\n",
        "# Test cases\n",
        "print(nrst_two(8))      # Output: 8.0\n",
        "print(nrst_two(11.5))   # Output: 8.0\n",
        "print(nrst_two(14))     # Output: 16.0\n",
        "print(nrst_two(2019))   # Output: 2048.0\n",
        "print(nrst_two(0.1))    # Output: 0.125\n",
        "print(nrst_two(0.75))   # Output: 1.0\n",
        "print(nrst_two(1.5))    # Output: 2.0\n",
        "\n",
        "\n",
        "\n",
        "\n"
      ],
      "metadata": {
        "colab": {
          "base_uri": "https://localhost:8080/"
        },
        "id": "iL5_t8pWtNCn",
        "outputId": "f43495b1-8a19-443f-e6ec-1d51b04ca78a"
      },
      "execution_count": 43,
      "outputs": [
        {
          "output_type": "stream",
          "name": "stdout",
          "text": [
            "The nearest power of two to hi is 16\n",
            "8\n",
            "8\n",
            "16\n",
            "2048\n",
            "0.5\n",
            "1\n",
            "2\n"
          ]
        }
      ]
    },
    {
      "cell_type": "code",
      "source": [
        "def is_plndrm(n):\n",
        "    # Convert the input number to a string for easy comparison\n",
        "    n_str = str(n)\n",
        "\n",
        "    # Base case: if the length of the string is 0 or 1, it's a palindrome\n",
        "    if len(n_str) <= 1:\n",
        "        return True\n",
        "    else:\n",
        "        # Compare the first and last characters\n",
        "        first_char = n_str[0]\n",
        "        last_char = n_str[-1]\n",
        "\n",
        "        # If the first and last characters are the same, check the rest recursively\n",
        "        if first_char == last_char:\n",
        "            # Recursively call is_plndrm with the substring excluding the first and last characters\n",
        "            return is_plndrm(n_str[1:-1])\n",
        "        else:\n",
        "            # If the first and last characters are not the same, it's not a palindrome\n",
        "            return False\n",
        "\n",
        "# Test cases\n",
        "print(is_plndrm(45654))    # Output: True\n",
        "print(is_plndrm(42))        # Output: False\n",
        "print(is_plndrm(2019))      # Output: False\n",
        "print(is_plndrm(10101))     # Output: True\n"
      ],
      "metadata": {
        "colab": {
          "base_uri": "https://localhost:8080/"
        },
        "id": "PMzaOJqJtbDq",
        "outputId": "e3cba1ea-fcca-4a5b-f76a-92a7119202f8"
      },
      "execution_count": 30,
      "outputs": [
        {
          "output_type": "stream",
          "name": "stdout",
          "text": [
            "True\n",
            "False\n",
            "False\n",
            "True\n"
          ]
        }
      ]
    },
    {
      "cell_type": "code",
      "source": [
        "def has_subls(ls, subls):\n",
        "    # Base cases:\n",
        "    # If subls is empty, it always appears in ls\n",
        "    if not subls:\n",
        "        return True\n",
        "    # If ls is empty but subls is not, subls cannot appear in ls\n",
        "    elif not ls:\n",
        "        return False\n",
        "    # If the first elements of ls and subls match, check the rest recursively\n",
        "    elif ls[0] == subls[0]:\n",
        "        # Recursively call has_subls with the rest of ls and subls\n",
        "        return has_subls(ls[1:], subls[1:])\n",
        "    else:\n",
        "        # If the first elements do not match, check the rest of ls\n",
        "        return has_subls(ls[1:], subls)\n",
        "\n",
        "# Test cases\n",
        "print(has_subls([], []))                 # Output: True\n",
        "print(has_subls([3, 3, 2, 1], []))        # Output: True\n",
        "print(has_subls([], [3, 3, 2, 1]))        # Output: False\n",
        "print(has_subls([3, 3, 2, 1], [3, 2, 1])) # Output: True\n",
        "print(has_subls([3, 2, 1], [3, 2, 1]))    # Output: True\n"
      ],
      "metadata": {
        "colab": {
          "base_uri": "https://localhost:8080/"
        },
        "id": "f1RwQepAto9g",
        "outputId": "66955102-a71e-459d-87e1-cb6a84b192d3"
      },
      "execution_count": 28,
      "outputs": [
        {
          "output_type": "stream",
          "name": "stdout",
          "text": [
            "True\n",
            "True\n",
            "False\n",
            "True\n",
            "True\n"
          ]
        }
      ]
    }
  ]
}